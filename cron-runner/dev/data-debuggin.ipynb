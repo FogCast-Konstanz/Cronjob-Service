{
 "cells": [
  {
   "cell_type": "markdown",
   "metadata": {},
   "source": [
    "Testing getting data from OpenMeteo"
   ]
  },
  {
   "cell_type": "code",
   "execution_count": null,
   "metadata": {},
   "outputs": [],
   "source": [
    "from datetime import datetime, timezone\n",
    "import openmeteo_requests\n",
    "\n",
    "import requests_cache\n",
    "import pandas as pd\n",
    "from retry_requests import retry\n",
    "\n",
    "from cron.jobs.toDataFrame import toDataFrame\n",
    "from cron.settings import settings"
   ]
  },
  {
   "cell_type": "code",
   "execution_count": null,
   "metadata": {},
   "outputs": [],
   "source": [
    "models_df = pd.read_csv(settings.model_ids_path)\n",
    "models = {row['id']: row['name'] for _, row in models_df.iterrows()}\n",
    "hourly_fields_df = pd.read_csv(settings.hourly_fields_path)\n",
    "hourly_fields = [row['field'] for _, row in hourly_fields_df.iterrows()]"
   ]
  },
  {
   "cell_type": "code",
   "execution_count": null,
   "metadata": {},
   "outputs": [],
   "source": [
    "utc_dt = datetime.now(timezone.utc)\n",
    "cache_session = requests_cache.CachedSession('.cache', expire_after = 3600)\n",
    "retry_session = retry(cache_session, retries = 5, backoff_factor = 0.2)\n",
    "openmeteo = openmeteo_requests.Client(session = retry_session)"
   ]
  },
  {
   "cell_type": "code",
   "execution_count": null,
   "metadata": {},
   "outputs": [],
   "source": [
    "url = \"https://api.open-meteo.com/v1/forecast\"\n",
    "params = {\n",
    "    \"latitude\": settings.latitude,\n",
    "    \"longitude\": settings.longitude,\n",
    "    \"hourly\": hourly_fields,\n",
    "    \"timezone\": \"GMT\",\n",
    "    \"models\": models.values(),\n",
    "    \"forecast_days\": 16\n",
    "}\n",
    "responses = openmeteo.weather_api(url, params=params)"
   ]
  },
  {
   "cell_type": "code",
   "execution_count": null,
   "metadata": {},
   "outputs": [],
   "source": [
    "def extract_model_data(response, hourly_fields: list[str]):\n",
    "    df = toDataFrame(response, hourly_fields)\n",
    "\n",
    "    # Determine forecast horizon by detecting a significant increase in missing forecast data.\n",
    "    # Compute the number of NaNs in each row for forecast columns.\n",
    "    nan_counts = df[hourly_fields].isnull().sum(axis=1)\n",
    "\n",
    "    horizon_index = None\n",
    "    diff_threshold = 10  # threshold for a significant jump in missing values\n",
    "    for i in range(1, len(nan_counts)):\n",
    "        diff = nan_counts.iloc[i] - nan_counts.iloc[i-1]\n",
    "        if diff >= diff_threshold:\n",
    "            horizon_index = df.index[i]\n",
    "            break\n",
    "\n",
    "    if horizon_index is not None:\n",
    "        df = df.loc[:horizon_index-1]\n",
    "\n",
    "    # Additionally, drop any row that is entirely NaN in the forecast columns.\n",
    "    # Remove only trailing rows where all forecast columns are NaN\n",
    "    for idx in df.index[::-1]:\n",
    "        if df.loc[idx, hourly_fields].isnull().all():\n",
    "            df = df.drop(idx)\n",
    "        else:\n",
    "            break\n",
    "    \n",
    "    return df"
   ]
  },
  {
   "cell_type": "code",
   "execution_count": null,
   "metadata": {},
   "outputs": [],
   "source": [
    "old_icon_eu_df = None\n",
    "\n",
    "for (i, response) in enumerate(responses):\n",
    "    model_id = response.Model()\n",
    "    model_name = models.get(model_id, \"Unknown\")\n",
    "    if model_name == \"icon_eu\":\n",
    "        old_icon_eu_df = extract_model_data(response, hourly_fields)\n",
    "        break"
   ]
  },
  {
   "cell_type": "code",
   "execution_count": null,
   "metadata": {},
   "outputs": [],
   "source": [
    "old_icon_eu_df.head()"
   ]
  },
  {
   "cell_type": "code",
   "execution_count": null,
   "metadata": {},
   "outputs": [],
   "source": [
    "old_forecast_length = len(old_icon_eu_df)\n",
    "print(\"Old method forecast length: \", old_forecast_length)\n",
    "old_number_complete_nan_rows = old_icon_eu_df.isna().all(axis=1).sum()\n",
    "print(\"Old method number of complete NaN rows: \", old_number_complete_nan_rows)"
   ]
  },
  {
   "cell_type": "code",
   "execution_count": null,
   "metadata": {},
   "outputs": [],
   "source": [
    "def new_extract_model_data(response, hourly_fields: list[str]):\n",
    "    df = toDataFrame(response, hourly_fields)\n",
    "    # Cut the dataframe when the most important values are not forecasted anymore (NaN)\n",
    "    df = df.dropna(subset=[\"temperature_2m\", \"relative_humidity_2m\", \"dew_point_2m\"])\n",
    "    return df"
   ]
  },
  {
   "cell_type": "code",
   "execution_count": null,
   "metadata": {},
   "outputs": [],
   "source": [
    "new_icon_eu_df = None\n",
    "\n",
    "for (i, response) in enumerate(responses):\n",
    "    model_id = response.Model()\n",
    "    model_name = models.get(model_id, \"Unknown\")\n",
    "    if model_name == \"icon_eu\":\n",
    "        new_icon_eu_df = new_extract_model_data(response, hourly_fields)\n",
    "        break"
   ]
  },
  {
   "cell_type": "code",
   "execution_count": null,
   "metadata": {},
   "outputs": [],
   "source": [
    "new_forecast_length = len(new_icon_eu_df)\n",
    "print(\"New method forecast length: \", new_forecast_length)\n",
    "new_number_complete_nan_rows = new_icon_eu_df.isna().all(axis=1).sum()\n",
    "print(\"New method number of complete NaN rows: \", new_number_complete_nan_rows)\n",
    "new_forecast_length_days = new_forecast_length / 24\n",
    "print(\"New method forecast length in days: \", new_forecast_length_days)"
   ]
  },
  {
   "cell_type": "code",
   "execution_count": null,
   "metadata": {},
   "outputs": [],
   "source": [
    "new_icon_eu_df.head(10)"
   ]
  },
  {
   "cell_type": "code",
   "execution_count": null,
   "metadata": {},
   "outputs": [],
   "source": [
    "new_icon_eu_df.tail(10)"
   ]
  },
  {
   "cell_type": "code",
   "execution_count": null,
   "metadata": {},
   "outputs": [],
   "source": []
  }
 ],
 "metadata": {
  "kernelspec": {
   "display_name": "fogcast-cron",
   "language": "python",
   "name": "python3"
  },
  "language_info": {
   "codemirror_mode": {
    "name": "ipython",
    "version": 3
   },
   "file_extension": ".py",
   "mimetype": "text/x-python",
   "name": "python",
   "nbconvert_exporter": "python",
   "pygments_lexer": "ipython3",
   "version": "3.12.9"
  }
 },
 "nbformat": 4,
 "nbformat_minor": 2
}
